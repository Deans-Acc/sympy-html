{
 "cells": [
  {
   "cell_type": "code",
   "execution_count": null,
   "metadata": {},
   "outputs": [],
   "source": [
    "%pip install --upgrade pip\n",
    "%pip install --upgrade sympy\n",
    "%pip install --upgrade websockets\n",
    "%pip install --upgrade pint"
   ]
  },
  {
   "cell_type": "code",
   "execution_count": null,
   "metadata": {
    "scrolled": false
   },
   "outputs": [],
   "source": [
    "%run \"main.py\""
   ]
  },
  {
   "cell_type": "code",
   "execution_count": null,
   "metadata": {},
   "outputs": [],
   "source": [
    "from http.server import HTTPServer, BaseHTTPRequestHandler\n",
    "from http import HTTPStatus\n",
    "from threading import Thread\n",
    "\n",
    "class SimpleHTTPRequestHandler(BaseHTTPRequestHandler):\n",
    "    def log_request(self, code):\n",
    "        if code == 404 or (isinstance(code, HTTPStatus) and code.value == 404):\n",
    "            return\n",
    "        super().log_request(code)\n",
    "    def do_GET(self):\n",
    "        if \"favicon\" in self.path:\n",
    "            self.send_response(404)\n",
    "            self.end_headers()\n",
    "            return\n",
    "        self.send_response(200)\n",
    "        self.end_headers()\n",
    "        index = open(\"index.html\", \"rb\")\n",
    "        self.wfile.write(index.read())\n",
    "        index.close()\n",
    "\n",
    "httpd = HTTPServer(('0.0.0.0', 8000), SimpleHTTPRequestHandler)\n",
    "serve_forever = httpd.serve_forever\n",
    "Thread(target=serve_forever).start()"
   ]
  }
 ],
 "metadata": {
  "kernelspec": {
   "display_name": "Python 3",
   "language": "python",
   "name": "python3"
  },
  "language_info": {
   "codemirror_mode": {
    "name": "ipython",
    "version": 3
   },
   "file_extension": ".py",
   "mimetype": "text/x-python",
   "name": "python",
   "nbconvert_exporter": "python",
   "pygments_lexer": "ipython3",
   "version": "3.9.7"
  }
 },
 "nbformat": 4,
 "nbformat_minor": 2
}
